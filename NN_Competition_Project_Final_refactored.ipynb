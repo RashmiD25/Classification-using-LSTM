{
  "cells": [
    {
      "cell_type": "code",
      "execution_count": null,
      "metadata": {
        "id": "kx7ka_bAOU64"
      },
      "outputs": [],
      "source": [
        "import csv\n",
        "import random\n",
        "import numpy as np\n",
        "import pandas as pd\n",
        "import matplotlib.pyplot as plt\n",
        "from keras.optimizers import Adam\n",
        "from sklearn import preprocessing\n",
        "from keras.models import Sequential\n",
        "from keras.layers import LSTM, Bidirectional\n",
        "from sklearn.model_selection import train_test_split\n",
        "from keras.layers import Dense, Embedding, Dropout, BatchNormalization"
      ]
    },
    {
      "cell_type": "code",
      "execution_count": null,
      "metadata": {
        "id": "UvDvVnjOObAH"
      },
      "outputs": [],
      "source": [
        "epochs = 30\n",
        "timeStep = 32\n",
        "# 6 features accl x,y,z + gyro x,y,z\n",
        "featureCount = 6\n",
        "# Ratio\n",
        "sampleMultiplier = 4.5"
      ]
    },
    {
      "cell_type": "code",
      "execution_count": null,
      "metadata": {
        "id": "tC5Y9YeIOcds"
      },
      "outputs": [],
      "source": [
        "# 27 Out Of 29 Files are selected as the Training Data\n",
        "trainingFiles = {'subject_001_01__x.csv': 'subject_001_01__y.csv',\n",
        "                  'subject_001_02__x.csv': 'subject_001_02__y.csv',\n",
        "                  'subject_001_03__x.csv': 'subject_001_03__y.csv',\n",
        "                  'subject_001_04__x.csv': 'subject_001_04__y.csv',\n",
        "                  'subject_001_05__x.csv': 'subject_001_05__y.csv',\n",
        "                  'subject_001_06__x.csv': 'subject_001_06__y.csv',\n",
        "                  'subject_001_07__x.csv': 'subject_001_07__y.csv',\n",
        "                  'subject_001_08__x.csv': 'subject_001_08__y.csv',\n",
        "                  'subject_002_01__x.csv': 'subject_002_01__y.csv',\n",
        "                  'subject_002_02__x.csv': 'subject_002_02__y.csv',\n",
        "                  'subject_002_03__x.csv': 'subject_002_03__y.csv',\n",
        "                  'subject_002_04__x.csv': 'subject_002_04__y.csv',\n",
        "                  'subject_002_05__x.csv': 'subject_002_05__y.csv',\n",
        "                  'subject_003_01__x.csv': 'subject_003_01__y.csv',\n",
        "                  'subject_003_02__x.csv': 'subject_003_02__y.csv',\n",
        "                  'subject_003_03__x.csv': 'subject_003_03__y.csv',\n",
        "                  'subject_004_01__x.csv': 'subject_004_01__y.csv',\n",
        "                  'subject_004_02__x.csv': 'subject_004_02__y.csv',\n",
        "                  'subject_005_01__x.csv': 'subject_005_01__y.csv',\n",
        "                  'subject_005_02__x.csv': 'subject_005_02__y.csv',\n",
        "                  'subject_005_03__x.csv': 'subject_005_03__y.csv',\n",
        "                  'subject_006_03__x.csv': 'subject_006_03__y.csv',\n",
        "                  'subject_008_01__x.csv': 'subject_008_01__y.csv',\n",
        "                  'subject_007_03__x.csv': 'subject_007_03__y.csv',\n",
        "                  'subject_007_04__x.csv': 'subject_007_04__y.csv'}\n",
        "\n",
        "# 2 Out Of 29 Files are selected as the Validation Data\n",
        "validationFiles = {'subject_006_01__x.csv': 'subject_006_01__y.csv','subject_006_02__x.csv': 'subject_006_02__y.csv'}"
      ]
    },
    {
      "cell_type": "code",
      "execution_count": null,
      "metadata": {
        "id": "-PwCqp6_e6Rn"
      },
      "outputs": [],
      "source": [
        "# function to read input datafile - here the data is downsampled, interpolated and the results are compared before and after the preprocessing\n",
        "\n",
        "def readFile(inputFile, outputFile, isValid):\n",
        "  print(\"Processing: \" + inputFile)\n",
        "  data_x = pd.read_csv(inputFile, names=['acc.x', 'acc.y', 'acc.z', 'gyro.x', 'gyro.y', 'gyro.z'])\n",
        "  # Mean Subtraction\n",
        "  data_x = data_x - data_x.mean()\n",
        "  # Interpolate missing values\n",
        "  data_x = data_x.interpolate()\n",
        "  data_x = data_x.values\n",
        "  data_y = pd.read_csv(outputFile, names=['label']).values\n",
        "  allCount = np.unique(data_y, returnCounts = True)\n",
        "  minCount = min(allCount[1])\n",
        "  acceptProb = [1,1,1,1]\n",
        "  for i in range(len(allCount[0])):\n",
        "    acceptProb[allCount[0][i]] = (minCount/allCount[1][i]) * sampleMultiplier\n",
        "  if isValid:\n",
        "    acceptProb = [1,1,1,1]\n",
        "  print(acceptProb)\n",
        "  lstmXinput = []\n",
        "  for i in range(int(timeStep/4), data_y.shape[0]):\n",
        "    sample = []\n",
        "    for j in range((i*4)-(timeStep), (i*4)):\n",
        "      sample.append(data_x[j])\n",
        "    lstmXinput.append(sample)\n",
        "  lstmXinput = np.asarray(lstmXinput)\n",
        "  data_y = data_y[0: data_y.shape[0] - int(timeStep/4)]\n",
        "\n",
        "  print(\"Before down-sampling\")\n",
        "  print(\"lstmXinput: \" + str(lstmXinput.shape))\n",
        "  print(\"data_y: \" + str(data_y.shape))\n",
        "  print(\"label dist.: \" + str(np.unique(data_y, returnCounts = True)))\n",
        "  \n",
        "  lstm_select_data_x = []\n",
        "  select_data_y = []\n",
        "  for i in range(0, data_y.shape[0]):\n",
        "    val = random.random()\n",
        "    if val <= acceptProb[data_y[i][0]]:\n",
        "      lstm_select_data_x.append(lstmXinput[i])\n",
        "      select_data_y.append(data_y[i])\n",
        "  lstm_select_data_x = np.asarray(lstm_select_data_x)\n",
        "  select_data_y = np.asarray(select_data_y)\n",
        "\n",
        "  print(\"After down-sampling\")\n",
        "  print(\"lstm_x_select_data: \" + str(lstm_select_data_x.shape))\n",
        "  print(\"y_select_data: \" + str(select_data_y.shape))\n",
        "  print(\"label distribution: \" + str(np.unique(select_data_y, returnCounts = True)))\n",
        "\n",
        "  return (lstm_select_data_x, np.squeeze(select_data_y))"
      ]
    },
    {
      "cell_type": "code",
      "execution_count": null,
      "metadata": {
        "id": "rQTPVI4oe7CU"
      },
      "outputs": [],
      "source": [
        "# function to read training data\n",
        "def readTraining(): \n",
        "    input_x = np.empty((0, timeStep, featureCount))\n",
        "    input_y = np.empty((0,))\n",
        "    for inputFile, outputFile in trainingFiles.items():\n",
        "        temp_x, temp_y = readFile(inputFile, outputFile, False)\n",
        "        input_x = np.append(input_x, temp_x, axis=0)\n",
        "        input_y = np.append(input_y, temp_y, axis=0)\n",
        "    print('Training X: ' + str(input_x.shape))\n",
        "    print('Training Y: ' + str(input_y.shape))\n",
        "    print(\"label distribution: \" + str(np.unique(input_y, returnCounts = True)))\n",
        "    return (input_x, input_y)"
      ]
    },
    {
      "cell_type": "code",
      "execution_count": null,
      "metadata": {
        "colab": {
          "base_uri": "https://localhost:8080/"
        },
        "id": "Exm76xnme90r",
        "outputId": "cb490afb-1d51-43af-880e-48241955511d"
      },
      "outputs": [
        {
          "name": "stdout",
          "output_type": "stream",
          "text": [
            "Processing: subject_001_01__x.csv\n",
            "[0.4965083798882681, 4.5, 4.060279187817259, 2.0911764705882354]\n",
            "Before down-sampling\n",
            "lstm_x_input: (9465, 32, 6)\n",
            "y_data: (9465, 1)\n",
            "label dist.: (array([0, 1, 2, 3]), array([6436,  711,  788, 1530]))\n",
            "After down-sampling\n",
            "lstm_x_select_data: (6236, 32, 6)\n",
            "y_select_data: (6236, 1)\n",
            "label dist.: (array([0, 1, 2, 3]), array([3207,  711,  788, 1530]))\n",
            "Processing: subject_001_02__x.csv\n",
            "[0.34987267229030716, 4.5, 3.829703832752613, 1.5415497896213184]\n",
            "Before down-sampling\n",
            "lstm_x_input: (17535, 32, 6)\n",
            "y_data: (17535, 1)\n",
            "label dist.: (array([0, 1, 2, 3]), array([12558,   977,  1148,  2852]))\n",
            "After down-sampling\n",
            "lstm_x_select_data: (9435, 32, 6)\n",
            "y_select_data: (9435, 1)\n",
            "label dist.: (array([0, 1, 2, 3]), array([4458,  977, 1148, 2852]))\n",
            "Processing: subject_001_03__x.csv\n",
            "[0.3649234847571997, 4.5, 2.738245931283906, 4.271509167842031]\n",
            "Before down-sampling\n",
            "lstm_x_input: (10779, 32, 6)\n",
            "y_data: (10779, 1)\n",
            "label dist.: (array([0, 1, 2, 3]), array([8291,  673, 1106,  709]))\n",
            "After down-sampling\n",
            "lstm_x_select_data: (5534, 32, 6)\n",
            "y_select_data: (5534, 1)\n",
            "label dist.: (array([0, 1, 2, 3]), array([3046,  673, 1106,  709]))\n",
            "Processing: subject_001_04__x.csv\n",
            "[0.4009810862749065, 3.2336867862969005, 4.5, 2.2719197707736387]\n",
            "Before down-sampling\n",
            "lstm_x_input: (13731, 32, 6)\n",
            "y_data: (13731, 1)\n",
            "label dist.: (array([0, 1, 2, 3]), array([9879, 1226,  881, 1745]))\n",
            "After down-sampling\n",
            "lstm_x_select_data: (7814, 32, 6)\n",
            "y_select_data: (7814, 1)\n",
            "label dist.: (array([0, 1, 2, 3]), array([3962, 1226,  881, 1745]))\n",
            "Processing: subject_001_05__x.csv\n",
            "[0.338740285559371, 3.3172566371681413, 2.1407766990291264, 4.5]\n",
            "Before down-sampling\n",
            "lstm_x_input: (14772, 32, 6)\n",
            "y_data: (14772, 1)\n",
            "label dist.: (array([0, 1, 2, 3]), array([11058,  1130,  1751,   833]))\n",
            "After down-sampling\n",
            "lstm_x_select_data: (7569, 32, 6)\n",
            "y_select_data: (7569, 1)\n",
            "label dist.: (array([0, 1, 2, 3]), array([3855, 1130, 1751,  833]))\n",
            "Processing: subject_001_06__x.csv\n",
            "[0.07901383042693927, 1.0512, 1.1486013986013988, 4.5]\n",
            "Before down-sampling\n",
            "lstm_x_input: (9650, 32, 6)\n",
            "y_data: (9650, 1)\n",
            "label dist.: (array([0, 1, 2, 3]), array([8307,  625,  572,  146]))\n",
            "After down-sampling\n",
            "lstm_x_select_data: (2029, 32, 6)\n",
            "y_select_data: (2029, 1)\n",
            "label dist.: (array([0, 1, 2, 3]), array([686, 625, 572, 146]))\n",
            "Processing: subject_001_07__x.csv\n",
            "[0.30298237686398555, 1, 4.5, 2.6123376623376626]\n",
            "Before down-sampling\n",
            "lstm_x_input: (7848, 32, 6)\n",
            "y_data: (7848, 1)\n",
            "label dist.: (array([0, 2, 3]), array([6631,  447,  770]))\n",
            "After down-sampling\n",
            "lstm_x_select_data: (3248, 32, 6)\n",
            "y_select_data: (3248, 1)\n",
            "label dist.: (array([0, 2, 3]), array([2031,  447,  770]))\n",
            "Processing: subject_001_08__x.csv\n",
            "[0.2799334811529933, 4.5, 3.5675039246467817, 0.3058134840532903]\n",
            "Before down-sampling\n",
            "lstm_x_input: (16683, 32, 6)\n",
            "y_data: (16683, 1)\n",
            "label dist.: (array([0, 1, 2, 3]), array([8110,  505,  637, 7431]))\n",
            "After down-sampling\n",
            "lstm_x_select_data: (5622, 32, 6)\n",
            "y_select_data: (5622, 1)\n",
            "label dist.: (array([0, 1, 2, 3]), array([2263,  505,  637, 2217]))\n",
            "Processing: subject_002_01__x.csv\n",
            "[0.20652665882139948, 4.5, 3.138239339752407, 1.3272251308900525]\n",
            "Before down-sampling\n",
            "lstm_x_input: (13992, 32, 6)\n",
            "y_data: (13992, 1)\n",
            "label dist.: (array([0, 1, 2, 3]), array([11039,   507,   727,  1719]))\n",
            "After down-sampling\n",
            "lstm_x_select_data: (5238, 32, 6)\n",
            "y_select_data: (5238, 1)\n",
            "label dist.: (array([0, 1, 2, 3]), array([2285,  507,  727, 1719]))\n",
            "Processing: subject_002_02__x.csv\n",
            "[0.11178107606679034, 4.5, 2.1997971602434077, 0.31766256590509667]\n",
            "Before down-sampling\n",
            "lstm_x_input: (13842, 32, 6)\n",
            "y_data: (13842, 1)\n",
            "label dist.: (array([0, 1, 2, 3]), array([9694,  241,  493, 3414]))\n",
            "After down-sampling\n",
            "lstm_x_select_data: (2944, 32, 6)\n",
            "y_select_data: (2944, 1)\n",
            "label dist.: (array([0, 1, 2, 3]), array([1088,  241,  493, 1122]))\n",
            "Processing: subject_002_03__x.csv\n",
            "[0.1548130995699636, 4.5, 2.8023952095808387, 0.605955977557186]\n",
            "Before down-sampling\n",
            "lstm_x_input: (12191, 32, 6)\n",
            "y_data: (12191, 1)\n",
            "label dist.: (array([0, 1, 2, 3]), array([9061,  312,  501, 2317]))\n",
            "After down-sampling\n",
            "lstm_x_select_data: (3625, 32, 6)\n",
            "y_select_data: (3625, 1)\n",
            "label dist.: (array([0, 1, 2, 3]), array([1404,  312,  501, 1408]))\n",
            "Processing: subject_002_04__x.csv\n",
            "[0.19033370524393955, 4.5, 3.8850931677018634, 0.891025641025641]\n",
            "Before down-sampling\n",
            "lstm_x_input: (12857, 32, 6)\n",
            "y_data: (12857, 1)\n",
            "label dist.: (array([0, 1, 2, 3]), array([9851,  417,  483, 2106]))\n",
            "After down-sampling\n",
            "lstm_x_select_data: (4665, 32, 6)\n",
            "y_select_data: (4665, 1)\n",
            "label dist.: (array([0, 1, 2, 3]), array([1896,  417,  483, 1869]))\n",
            "Processing: subject_002_05__x.csv\n",
            "[0.25069472012703453, 4.013771186440678, 4.5, 0.8894366197183099]\n",
            "Before down-sampling\n",
            "lstm_x_input: (10572, 32, 6)\n",
            "y_data: (10572, 1)\n",
            "label dist.: (array([0, 1, 2, 3]), array([7549,  472,  421, 2130]))\n",
            "After down-sampling\n",
            "lstm_x_select_data: (4702, 32, 6)\n",
            "y_select_data: (4702, 1)\n",
            "label dist.: (array([0, 1, 2, 3]), array([1902,  472,  421, 1907]))\n",
            "Processing: subject_003_01__x.csv\n",
            "[0.3434022257551669, 4.5, 3.504424778761062, 2.4931794333683106]\n",
            "Before down-sampling\n",
            "lstm_x_input: (9070, 32, 6)\n",
            "y_data: (9070, 1)\n",
            "label dist.: (array([0, 1, 2, 3]), array([6911,  528,  678,  953]))\n",
            "After down-sampling\n",
            "lstm_x_select_data: (4541, 32, 6)\n",
            "y_select_data: (4541, 1)\n",
            "label dist.: (array([0, 1, 2, 3]), array([2382,  528,  678,  953]))\n",
            "Processing: subject_003_02__x.csv\n",
            "[0.0473966613672496, 1.0302375809935205, 4.5, 0.4076923076923077]\n",
            "Before down-sampling\n",
            "lstm_x_input: (11795, 32, 6)\n",
            "y_data: (11795, 1)\n",
            "label dist.: (array([0, 1, 2, 3]), array([10056,   463,   106,  1170]))\n",
            "After down-sampling\n",
            "lstm_x_select_data: (1545, 32, 6)\n",
            "y_select_data: (1545, 1)\n",
            "label dist.: (array([0, 1, 2, 3]), array([506, 463, 106, 470]))\n",
            "Processing: subject_003_03__x.csv\n",
            "[0.517531556802244, 1, 4.5, 2.0319383259911894]\n",
            "Before down-sampling\n",
            "lstm_x_input: (4875, 32, 6)\n",
            "y_data: (4875, 1)\n",
            "label dist.: (array([0, 2, 3]), array([3557,  410,  908]))\n",
            "After down-sampling\n",
            "lstm_x_select_data: (3183, 32, 6)\n",
            "y_select_data: (3183, 1)\n",
            "label dist.: (array([0, 2, 3]), array([1865,  410,  908]))\n",
            "Processing: subject_004_01__x.csv\n",
            "[0.34076335877862596, 4.5, 3.4712286158631414, 2.513513513513513]\n",
            "Before down-sampling\n",
            "lstm_x_input: (8569, 32, 6)\n",
            "y_data: (8569, 1)\n",
            "label dist.: (array([0, 1, 2, 3]), array([6542,  496,  643,  888]))\n",
            "After down-sampling\n",
            "lstm_x_select_data: (4178, 32, 6)\n",
            "y_select_data: (4178, 1)\n",
            "label dist.: (array([0, 1, 2, 3]), array([2151,  496,  643,  888]))\n",
            "Processing: subject_004_02__x.csv\n",
            "[0.2822045152722443, 3.7353515625, 4.5, 2.113259668508287]\n",
            "Before down-sampling\n",
            "lstm_x_input: (8611, 32, 6)\n",
            "y_data: (8611, 1)\n",
            "label dist.: (array([0, 1, 2, 3]), array([6769,  512,  425,  905]))\n",
            "After down-sampling\n",
            "lstm_x_select_data: (3702, 32, 6)\n",
            "y_select_data: (3702, 1)\n",
            "label dist.: (array([0, 1, 2, 3]), array([1860,  512,  425,  905]))\n",
            "Processing: subject_005_01__x.csv\n",
            "[0.16933824789988, 4.5, 3.5852994555353903, 1.4483137829912023]\n",
            "Before down-sampling\n",
            "lstm_x_input: (14012, 32, 6)\n",
            "y_data: (14012, 1)\n",
            "label dist.: (array([0, 1, 2, 3]), array([11658,   439,   551,  1364]))\n",
            "After down-sampling\n",
            "lstm_x_select_data: (4183, 32, 6)\n",
            "y_select_data: (4183, 1)\n",
            "label dist.: (array([0, 1, 2, 3]), array([1829,  439,  551, 1364]))\n",
            "Processing: subject_005_02__x.csv\n",
            "[0.28180787758571835, 4.295896328293736, 2.982008995502249, 4.5]\n",
            "Before down-sampling\n",
            "lstm_x_input: (8622, 32, 6)\n",
            "y_data: (8622, 1)\n",
            "label dist.: (array([0, 1, 2, 3]), array([7050,  463,  667,  442]))\n",
            "After down-sampling\n",
            "lstm_x_select_data: (3561, 32, 6)\n",
            "y_select_data: (3561, 1)\n",
            "label dist.: (array([0, 1, 2, 3]), array([1989,  463,  667,  442]))\n",
            "Processing: subject_005_03__x.csv\n",
            "[0.19253152279340446, 4.5, 3.351782363977486, 1.756637168141593]\n",
            "Before down-sampling\n",
            "lstm_x_input: (11218, 32, 6)\n",
            "y_data: (11218, 1)\n",
            "label dist.: (array([0, 1, 2, 3]), array([9271,  397,  533, 1017]))\n",
            "After down-sampling\n",
            "lstm_x_select_data: (3810, 32, 6)\n",
            "y_select_data: (3810, 1)\n",
            "label dist.: (array([0, 1, 2, 3]), array([1863,  397,  533, 1017]))\n",
            "Processing: subject_006_03__x.csv\n",
            "[0.18220338983050846, 4.5, 3.87, 0.7580803134182175]\n",
            "Before down-sampling\n",
            "lstm_x_input: (11274, 32, 6)\n",
            "y_data: (11274, 1)\n",
            "label dist.: (array([0, 1, 2, 3]), array([8488,  344,  400, 2042]))\n",
            "After down-sampling\n",
            "lstm_x_select_data: (3765, 32, 6)\n",
            "y_select_data: (3765, 1)\n",
            "label dist.: (array([0, 1, 2, 3]), array([1478,  344,  400, 1543]))\n",
            "Processing: subject_008_01__x.csv\n",
            "[0.0650525677315002, 4.5, 0.9491150442477876, 0.4867624810892587]\n",
            "Before down-sampling\n",
            "lstm_x_input: (12027, 32, 6)\n",
            "y_data: (12027, 1)\n",
            "label dist.: (array([0, 1, 2, 3]), array([9884,  143,  678, 1322]))\n",
            "After down-sampling\n",
            "lstm_x_select_data: (2011, 32, 6)\n",
            "y_select_data: (2011, 1)\n",
            "label dist.: (array([0, 1, 2, 3]), array([607, 143, 645, 616]))\n",
            "Processing: subject_007_03__x.csv\n",
            "[0.22067428252995264, 4.5, 3.71830985915493, 0.49438202247191015]\n",
            "Before down-sampling\n",
            "lstm_x_input: (11152, 32, 6)\n",
            "y_data: (11152, 1)\n",
            "label dist.: (array([0, 1, 2, 3]), array([7170,  352,  426, 3204]))\n",
            "After down-sampling\n",
            "lstm_x_select_data: (3896, 32, 6)\n",
            "y_select_data: (3896, 1)\n",
            "label dist.: (array([0, 1, 2, 3]), array([1519,  352,  426, 1599]))\n",
            "Processing: subject_007_04__x.csv\n",
            "[0.14797939778129954, 4.5, 2.7666666666666666, 0.6857405140758874]\n",
            "Before down-sampling\n",
            "lstm_x_input: (9852, 32, 6)\n",
            "y_data: (9852, 1)\n",
            "label dist.: (array([0, 1, 2, 3]), array([7564,  249,  405, 1634]))\n",
            "After down-sampling\n",
            "lstm_x_select_data: (2950, 32, 6)\n",
            "y_select_data: (2950, 1)\n",
            "label dist.: (array([0, 1, 2, 3]), array([1143,  249,  405, 1153]))\n",
            "Training X: (109986, 32, 6)\n",
            "Training Y: (109986,)\n",
            "label dist.: (array([0., 1., 2., 3.]), array([51275, 12182, 15844, 30685]))\n"
          ]
        }
      ],
      "source": [
        "(Xtrain, Ytrain) = readTraining()"
      ]
    },
    {
      "cell_type": "code",
      "execution_count": null,
      "metadata": {
        "colab": {
          "base_uri": "https://localhost:8080/"
        },
        "id": "YiKkCFTVfBQM",
        "outputId": "39d2a448-d13c-4fd0-9a5b-81bba6b98b54"
      },
      "outputs": [
        {
          "name": "stdout",
          "output_type": "stream",
          "text": [
            "(109986, 4)\n"
          ]
        }
      ],
      "source": [
        "YtrainCat = []\n",
        "for y in Ytrain:\n",
        "    if y == 0:\n",
        "        YtrainCat.append([1,0,0,0])\n",
        "    elif y == 1:\n",
        "        YtrainCat.append([0,1,0,0])\n",
        "    elif y == 2:\n",
        "        YtrainCat.append([0,0,1,0])\n",
        "    else:\n",
        "        YtrainCat.append([0,0,0,1])\n",
        "Ytrain = np.asarray(YtrainCat)\n",
        "print(Ytrain.shape)"
      ]
    },
    {
      "cell_type": "code",
      "execution_count": null,
      "metadata": {
        "id": "-P049ofTfC8B"
      },
      "outputs": [],
      "source": [
        "# function to read validation data\n",
        "def readValidation(): \n",
        "    input_x = np.empty((0, timeStep, featureCount))\n",
        "    input_y = np.empty((0,))\n",
        "    for inputFile, outputFile in validationFiles.items():\n",
        "        temp_x, temp_y = readFile(inputFile, outputFile, True)\n",
        "        input_x = np.append(input_x, temp_x, axis=0)\n",
        "        input_y = np.append(input_y, temp_y, axis=0)\n",
        "    print('Validation X: ' + str(input_x.shape))\n",
        "    print('Validation Y: ' + str(input_y.shape))\n",
        "    print(\"label dist.: \" + str(np.unique(input_y, returnCounts = True)))\n",
        "    return (input_x, input_y)"
      ]
    },
    {
      "cell_type": "code",
      "execution_count": null,
      "metadata": {
        "colab": {
          "base_uri": "https://localhost:8080/"
        },
        "id": "iupSiAtjfEo3",
        "outputId": "dd3cd834-d754-4057-cf89-0503857fabb9"
      },
      "outputs": [
        {
          "name": "stdout",
          "output_type": "stream",
          "text": [
            "Processing: subject_006_01__x.csv\n",
            "[1, 1, 1, 1]\n",
            "Before down-sampling\n",
            "lstm_x_input: (12023, 32, 6)\n",
            "y_data: (12023, 1)\n",
            "label dist.: (array([0, 1, 2, 3]), array([9502,  575,  826, 1120]))\n",
            "After down-sampling\n",
            "lstm_x_select_data: (12023, 32, 6)\n",
            "y_select_data: (12023, 1)\n",
            "label dist.: (array([0, 1, 2, 3]), array([9502,  575,  826, 1120]))\n",
            "Processing: subject_006_02__x.csv\n",
            "[1, 1, 1, 1]\n",
            "Before down-sampling\n",
            "lstm_x_input: (14883, 32, 6)\n",
            "y_data: (14883, 1)\n",
            "label dist.: (array([0, 1, 2, 3]), array([12269,   544,   482,  1588]))\n",
            "After down-sampling\n",
            "lstm_x_select_data: (14883, 32, 6)\n",
            "y_select_data: (14883, 1)\n",
            "label dist.: (array([0, 1, 2, 3]), array([12269,   544,   482,  1588]))\n",
            "Validation X: (26906, 32, 6)\n",
            "Validation Y: (26906,)\n",
            "label dist.: (array([0., 1., 2., 3.]), array([21771,  1119,  1308,  2708]))\n"
          ]
        }
      ],
      "source": [
        "(Xval, Yval) = readValidation()"
      ]
    },
    {
      "cell_type": "code",
      "execution_count": null,
      "metadata": {
        "colab": {
          "base_uri": "https://localhost:8080/"
        },
        "id": "RnL1EnaCfGKj",
        "outputId": "0cca41a1-cae7-4742-ee1a-6802458405e8"
      },
      "outputs": [
        {
          "name": "stdout",
          "output_type": "stream",
          "text": [
            "(26906, 4)\n"
          ]
        }
      ],
      "source": [
        "YvalCat = []\n",
        "for y in Yval:\n",
        "    if y == 0:\n",
        "        YvalCat.append([1,0,0,0])\n",
        "    elif y == 1:\n",
        "        YvalCat.append([0,1,0,0])\n",
        "    elif y == 2:\n",
        "        YvalCat.append([0,0,1,0])\n",
        "    else:\n",
        "        YvalCat.append([0,0,0,1])\n",
        "Yval = np.asarray(YvalCat)\n",
        "print(Yval.shape)"
      ]
    },
    {
      "cell_type": "code",
      "execution_count": null,
      "metadata": {
        "id": "MS7VxiSDZ1sj"
      },
      "outputs": [],
      "source": [
        "from keras import backend as K\n",
        "import tensorflow as tf"
      ]
    },
    {
      "cell_type": "code",
      "execution_count": null,
      "metadata": {
        "id": "JEB_Btx-fHxI"
      },
      "outputs": [],
      "source": [
        "# defining functions to calculate performance metrices\n",
        "def recall(yTrue, yPred):\n",
        "    truePositives = K.sum(K.round(K.clip(yTrue * yPred, 0, 1)))\n",
        "    allPositives = K.sum(K.round(K.clip(yTrue, 0, 1)))\n",
        "    recall = truePositives / (allPositives + K.epsilon())\n",
        "    return recall\n",
        "\n",
        "def precision(yTrue, yPred):\n",
        "    truePositives = K.sum(K.round(K.clip(yTrue * yPred, 0, 1)))\n",
        "    predictedPositives = K.sum(K.round(K.clip(yPred, 0, 1)))\n",
        "    precision = truePositives / (predictedPositives + K.epsilon())\n",
        "    return precision\n",
        "\n",
        "def f1_score(yTrue, yPred):\n",
        "    precision = precision(yTrue, yPred)\n",
        "    recall = recall(yTrue, yPred)\n",
        "    return 2*((precision*recall)/(precision+recall+K.epsilon()))"
      ]
    },
    {
      "cell_type": "code",
      "execution_count": null,
      "metadata": {
        "colab": {
          "base_uri": "https://localhost:8080/"
        },
        "id": "GVQ8Y40efJSR",
        "outputId": "81148e9f-9ea3-421c-e9f7-b6a35e570586"
      },
      "outputs": [
        {
          "name": "stdout",
          "output_type": "stream",
          "text": [
            "Model: \"sequential_2\"\n",
            "_________________________________________________________________\n",
            " Layer (type)                Output Shape              Param #   \n",
            "=================================================================\n",
            " lstm_4 (LSTM)               (None, 32, 100)           42800     \n",
            "                                                                 \n",
            " dropout_2 (Dropout)         (None, 32, 100)           0         \n",
            "                                                                 \n",
            " lstm_5 (LSTM)               (None, 32, 100)           80400     \n",
            "                                                                 \n",
            " dropout_3 (Dropout)         (None, 32, 100)           0         \n",
            "                                                                 \n",
            " bidirectional (Bidirectiona  (None, 200)              160800    \n",
            " l)                                                              \n",
            "                                                                 \n",
            " dropout_4 (Dropout)         (None, 200)               0         \n",
            "                                                                 \n",
            " dense (Dense)               (None, 128)               25728     \n",
            "                                                                 \n",
            " dense_1 (Dense)             (None, 4)                 516       \n",
            "                                                                 \n",
            "=================================================================\n",
            "Total params: 310,244\n",
            "Trainable params: 310,244\n",
            "Non-trainable params: 0\n",
            "_________________________________________________________________\n"
          ]
        }
      ],
      "source": [
        "# defining LSTM model architecture: we added an extra Bi-LSTM layer and reduced dropout values from our base literature to improve performance\n",
        "model = Sequential()\n",
        "model.add(LSTM(units = 100, input_shape=(timeStep, featureCount), return_sequences=True))\n",
        "model.add(Dropout(0.25))\n",
        "model.add(LSTM(units = 100, return_sequences=True))\n",
        "model.add(Dropout(0.25))\n",
        "model.add(Bidirectional(LSTM(units=100)))\n",
        "model.add(Dropout(0.25))\n",
        "model.add(Dense(128, activation=\"relu\"))\n",
        "model.add(Dense(4, activation='softmax'))\n",
        "model.compile(loss='categorical_crossentropy', optimizer=Adam(learning_rate=0.001), metrics=['categorical_accuracy', f1_score, precision, recall])\n",
        "model.summary()"
      ]
    },
    {
      "cell_type": "code",
      "execution_count": null,
      "metadata": {
        "colab": {
          "base_uri": "https://localhost:8080/"
        },
        "id": "_FTant-kfK0M",
        "outputId": "666adba7-b9fa-450a-95c1-45b5e6a93455"
      },
      "outputs": [
        {
          "name": "stdout",
          "output_type": "stream",
          "text": [
            "(109986, 32, 6)\n",
            "(109986, 4)\n",
            "(26906, 32, 6)\n",
            "(26906, 4)\n"
          ]
        }
      ],
      "source": [
        "print(Xtrain.shape)\n",
        "print(Ytrain.shape)\n",
        "print(Xval.shape)\n",
        "print(Yval.shape)"
      ]
    },
    {
      "cell_type": "code",
      "execution_count": null,
      "metadata": {
        "colab": {
          "base_uri": "https://localhost:8080/"
        },
        "id": "acRW1-GHfMV2",
        "outputId": "01c6c8fc-25b7-4277-b468-5f96039ab04a"
      },
      "outputs": [
        {
          "name": "stdout",
          "output_type": "stream",
          "text": [
            "Epoch 1/30\n",
            "3438/3438 [==============================] - 45s 13ms/step - loss: 0.6519 - categorical_accuracy: 0.7126 - f1_m: 0.6853 - precision_m: 0.7162 - recall_m: 0.6664 - val_loss: 0.4708 - val_categorical_accuracy: 0.8702 - val_f1_m: 0.8679 - val_precision_m: 0.8729 - val_recall_m: 0.8636\n",
            "Epoch 2/30\n",
            "3438/3438 [==============================] - 44s 13ms/step - loss: 0.5203 - categorical_accuracy: 0.7824 - f1_m: 0.7719 - precision_m: 0.7877 - recall_m: 0.7616 - val_loss: 0.2596 - val_categorical_accuracy: 0.9148 - val_f1_m: 0.9133 - val_precision_m: 0.9172 - val_recall_m: 0.9098\n",
            "Epoch 3/30\n",
            "3438/3438 [==============================] - 41s 12ms/step - loss: 0.4446 - categorical_accuracy: 0.8233 - f1_m: 0.8168 - precision_m: 0.8280 - recall_m: 0.8097 - val_loss: 0.2121 - val_categorical_accuracy: 0.9324 - val_f1_m: 0.9319 - val_precision_m: 0.9349 - val_recall_m: 0.9291\n",
            "Epoch 4/30\n",
            "3438/3438 [==============================] - 42s 12ms/step - loss: 0.3932 - categorical_accuracy: 0.8481 - f1_m: 0.8420 - precision_m: 0.8524 - recall_m: 0.8352 - val_loss: 0.2061 - val_categorical_accuracy: 0.9321 - val_f1_m: 0.9309 - val_precision_m: 0.9351 - val_recall_m: 0.9274\n",
            "Epoch 5/30\n",
            "3438/3438 [==============================] - 41s 12ms/step - loss: 0.3477 - categorical_accuracy: 0.8668 - f1_m: 0.8612 - precision_m: 0.8710 - recall_m: 0.8547 - val_loss: 0.1925 - val_categorical_accuracy: 0.9365 - val_f1_m: 0.9361 - val_precision_m: 0.9381 - val_recall_m: 0.9342\n",
            "Epoch 6/30\n",
            "3438/3438 [==============================] - 43s 12ms/step - loss: 0.3121 - categorical_accuracy: 0.8838 - f1_m: 0.8796 - precision_m: 0.8871 - recall_m: 0.8744 - val_loss: 0.1800 - val_categorical_accuracy: 0.9403 - val_f1_m: 0.9394 - val_precision_m: 0.9421 - val_recall_m: 0.9369\n",
            "Epoch 7/30\n",
            "3438/3438 [==============================] - 42s 12ms/step - loss: 0.2797 - categorical_accuracy: 0.8976 - f1_m: 0.8937 - precision_m: 0.9002 - recall_m: 0.8889 - val_loss: 0.1751 - val_categorical_accuracy: 0.9444 - val_f1_m: 0.9436 - val_precision_m: 0.9454 - val_recall_m: 0.9420\n",
            "Epoch 8/30\n",
            "3438/3438 [==============================] - 43s 13ms/step - loss: 0.2598 - categorical_accuracy: 0.9053 - f1_m: 0.9021 - precision_m: 0.9081 - recall_m: 0.8978 - val_loss: 0.1856 - val_categorical_accuracy: 0.9407 - val_f1_m: 0.9404 - val_precision_m: 0.9419 - val_recall_m: 0.9389\n",
            "Epoch 9/30\n",
            "3438/3438 [==============================] - 42s 12ms/step - loss: 0.2400 - categorical_accuracy: 0.9141 - f1_m: 0.9114 - precision_m: 0.9164 - recall_m: 0.9075 - val_loss: 0.2027 - val_categorical_accuracy: 0.9375 - val_f1_m: 0.9371 - val_precision_m: 0.9385 - val_recall_m: 0.9358\n",
            "Epoch 10/30\n",
            "3438/3438 [==============================] - 43s 12ms/step - loss: 0.2208 - categorical_accuracy: 0.9198 - f1_m: 0.9173 - precision_m: 0.9218 - recall_m: 0.9140 - val_loss: 0.2071 - val_categorical_accuracy: 0.9371 - val_f1_m: 0.9369 - val_precision_m: 0.9381 - val_recall_m: 0.9357\n",
            "Epoch 11/30\n",
            "3438/3438 [==============================] - 41s 12ms/step - loss: 0.2051 - categorical_accuracy: 0.9264 - f1_m: 0.9245 - precision_m: 0.9283 - recall_m: 0.9214 - val_loss: 0.2163 - val_categorical_accuracy: 0.9423 - val_f1_m: 0.9423 - val_precision_m: 0.9434 - val_recall_m: 0.9412\n",
            "Epoch 12/30\n",
            "3438/3438 [==============================] - 41s 12ms/step - loss: 0.1920 - categorical_accuracy: 0.9307 - f1_m: 0.9292 - precision_m: 0.9326 - recall_m: 0.9264 - val_loss: 0.2301 - val_categorical_accuracy: 0.9438 - val_f1_m: 0.9439 - val_precision_m: 0.9449 - val_recall_m: 0.9430\n",
            "Epoch 13/30\n",
            "3438/3438 [==============================] - 42s 12ms/step - loss: 0.1847 - categorical_accuracy: 0.9350 - f1_m: 0.9335 - precision_m: 0.9363 - recall_m: 0.9311 - val_loss: 0.2185 - val_categorical_accuracy: 0.9456 - val_f1_m: 0.9454 - val_precision_m: 0.9460 - val_recall_m: 0.9448\n",
            "Epoch 14/30\n",
            "3438/3438 [==============================] - 42s 12ms/step - loss: 0.1686 - categorical_accuracy: 0.9402 - f1_m: 0.9392 - precision_m: 0.9417 - recall_m: 0.9371 - val_loss: 0.2143 - val_categorical_accuracy: 0.9464 - val_f1_m: 0.9463 - val_precision_m: 0.9468 - val_recall_m: 0.9459\n",
            "Epoch 15/30\n",
            "3438/3438 [==============================] - 42s 12ms/step - loss: 0.1603 - categorical_accuracy: 0.9431 - f1_m: 0.9424 - precision_m: 0.9444 - recall_m: 0.9406 - val_loss: 0.2170 - val_categorical_accuracy: 0.9503 - val_f1_m: 0.9502 - val_precision_m: 0.9504 - val_recall_m: 0.9499\n",
            "Epoch 16/30\n",
            "3438/3438 [==============================] - 41s 12ms/step - loss: 0.1591 - categorical_accuracy: 0.9450 - f1_m: 0.9444 - precision_m: 0.9463 - recall_m: 0.9427 - val_loss: 0.2011 - val_categorical_accuracy: 0.9506 - val_f1_m: 0.9506 - val_precision_m: 0.9510 - val_recall_m: 0.9503\n",
            "Epoch 17/30\n",
            "3438/3438 [==============================] - 42s 12ms/step - loss: 0.1459 - categorical_accuracy: 0.9495 - f1_m: 0.9488 - precision_m: 0.9505 - recall_m: 0.9474 - val_loss: 0.2236 - val_categorical_accuracy: 0.9480 - val_f1_m: 0.9479 - val_precision_m: 0.9482 - val_recall_m: 0.9476\n",
            "Epoch 18/30\n",
            "3438/3438 [==============================] - 44s 13ms/step - loss: 0.1377 - categorical_accuracy: 0.9517 - f1_m: 0.9514 - precision_m: 0.9529 - recall_m: 0.9500 - val_loss: 0.2076 - val_categorical_accuracy: 0.9542 - val_f1_m: 0.9541 - val_precision_m: 0.9544 - val_recall_m: 0.9538\n",
            "Epoch 19/30\n",
            "3438/3438 [==============================] - 42s 12ms/step - loss: 0.1317 - categorical_accuracy: 0.9531 - f1_m: 0.9525 - precision_m: 0.9542 - recall_m: 0.9511 - val_loss: 0.2197 - val_categorical_accuracy: 0.9501 - val_f1_m: 0.9501 - val_precision_m: 0.9503 - val_recall_m: 0.9498\n",
            "Epoch 20/30\n",
            "3438/3438 [==============================] - 42s 12ms/step - loss: 0.1271 - categorical_accuracy: 0.9544 - f1_m: 0.9540 - precision_m: 0.9555 - recall_m: 0.9528 - val_loss: 0.2230 - val_categorical_accuracy: 0.9520 - val_f1_m: 0.9520 - val_precision_m: 0.9523 - val_recall_m: 0.9516\n",
            "Epoch 21/30\n",
            "3438/3438 [==============================] - 41s 12ms/step - loss: 0.1297 - categorical_accuracy: 0.9563 - f1_m: 0.9559 - precision_m: 0.9574 - recall_m: 0.9545 - val_loss: 0.2266 - val_categorical_accuracy: 0.9508 - val_f1_m: 0.9509 - val_precision_m: 0.9512 - val_recall_m: 0.9507\n",
            "Epoch 22/30\n",
            "3438/3438 [==============================] - 41s 12ms/step - loss: 0.1193 - categorical_accuracy: 0.9580 - f1_m: 0.9581 - precision_m: 0.9591 - recall_m: 0.9572 - val_loss: 0.2000 - val_categorical_accuracy: 0.9528 - val_f1_m: 0.9528 - val_precision_m: 0.9531 - val_recall_m: 0.9526\n",
            "Epoch 23/30\n",
            "3438/3438 [==============================] - 42s 12ms/step - loss: 0.1147 - categorical_accuracy: 0.9598 - f1_m: 0.9596 - precision_m: 0.9606 - recall_m: 0.9586 - val_loss: 0.2342 - val_categorical_accuracy: 0.9513 - val_f1_m: 0.9513 - val_precision_m: 0.9516 - val_recall_m: 0.9511\n",
            "Epoch 24/30\n",
            "3438/3438 [==============================] - 42s 12ms/step - loss: 0.1152 - categorical_accuracy: 0.9604 - f1_m: 0.9603 - precision_m: 0.9614 - recall_m: 0.9594 - val_loss: 0.2043 - val_categorical_accuracy: 0.9539 - val_f1_m: 0.9537 - val_precision_m: 0.9540 - val_recall_m: 0.9534\n",
            "Epoch 25/30\n",
            "3438/3438 [==============================] - 42s 12ms/step - loss: 0.1125 - categorical_accuracy: 0.9612 - f1_m: 0.9611 - precision_m: 0.9621 - recall_m: 0.9601 - val_loss: 0.2114 - val_categorical_accuracy: 0.9521 - val_f1_m: 0.9520 - val_precision_m: 0.9523 - val_recall_m: 0.9518\n",
            "Epoch 26/30\n",
            "3438/3438 [==============================] - 42s 12ms/step - loss: 0.1086 - categorical_accuracy: 0.9633 - f1_m: 0.9631 - precision_m: 0.9642 - recall_m: 0.9622 - val_loss: 0.2297 - val_categorical_accuracy: 0.9504 - val_f1_m: 0.9503 - val_precision_m: 0.9507 - val_recall_m: 0.9499\n",
            "Epoch 27/30\n",
            "3438/3438 [==============================] - 41s 12ms/step - loss: 0.1071 - categorical_accuracy: 0.9643 - f1_m: 0.9642 - precision_m: 0.9653 - recall_m: 0.9633 - val_loss: 0.2255 - val_categorical_accuracy: 0.9508 - val_f1_m: 0.9508 - val_precision_m: 0.9511 - val_recall_m: 0.9506\n",
            "Epoch 28/30\n",
            "3438/3438 [==============================] - 42s 12ms/step - loss: 0.1013 - categorical_accuracy: 0.9648 - f1_m: 0.9649 - precision_m: 0.9658 - recall_m: 0.9641 - val_loss: 0.2030 - val_categorical_accuracy: 0.9525 - val_f1_m: 0.9524 - val_precision_m: 0.9527 - val_recall_m: 0.9522\n",
            "Epoch 29/30\n",
            "3438/3438 [==============================] - 43s 12ms/step - loss: 0.0978 - categorical_accuracy: 0.9668 - f1_m: 0.9667 - precision_m: 0.9675 - recall_m: 0.9660 - val_loss: 0.2441 - val_categorical_accuracy: 0.9526 - val_f1_m: 0.9527 - val_precision_m: 0.9531 - val_recall_m: 0.9524\n",
            "Epoch 30/30\n",
            "3438/3438 [==============================] - 42s 12ms/step - loss: 0.0945 - categorical_accuracy: 0.9680 - f1_m: 0.9680 - precision_m: 0.9688 - recall_m: 0.9672 - val_loss: 0.2153 - val_categorical_accuracy: 0.9497 - val_f1_m: 0.9498 - val_precision_m: 0.9500 - val_recall_m: 0.9495\n"
          ]
        }
      ],
      "source": [
        "history = model.fit(Xtrain, Ytrain, epochs=epochs, batch_size=32, shuffle=False, validation_data=(Xval, Yval))"
      ]
    },
    {
      "cell_type": "code",
      "execution_count": null,
      "metadata": {
        "id": "SrILj0OnfNvK"
      },
      "outputs": [],
      "source": [
        "def plotHistory(history):\n",
        "    # plot loss\n",
        "    plt.title('Loss')\n",
        "    plt.ylabel('Loss')\n",
        "    plt.xlabel('Epoch')\n",
        "    plt.plot(history.history['loss'], color='blue', label='train')\n",
        "    plt.plot(history.history['val_loss'], color='red', label='test')\n",
        "    plt.legend(['Train', 'Validation'])\n",
        "    plt.show()\n",
        "    \n",
        "    # plot accuracy\n",
        "    plt.title('Accuracy')\n",
        "    plt.ylabel('Accuracy')\n",
        "    plt.xlabel('Epoch')\n",
        "    plt.plot(history.history['categorical_accuracy'], color='blue', label='train')\n",
        "    plt.plot(history.history['val_categorical_accuracy'], color='red', label='test')\n",
        "    plt.legend(['Train', 'Validation'])\n",
        "    plt.show()"
      ]
    },
    {
      "cell_type": "code",
      "execution_count": null,
      "metadata": {
        "colab": {
          "base_uri": "https://localhost:8080/",
          "height": 927
        },
        "id": "xxRdUb1BfPSq",
        "outputId": "634db699-8a30-4152-d054-4d1213f8dab5"
      },
      "outputs": [
        {
          "data": {
            "image/png": "[encoded data removed]",
            "text/plain": [
              "<Figure size 640x480 with 1 Axes>"
            ]
          },
          "metadata": {},
          "output_type": "display_data"
        },
        {
          "data": {
            "image/png": "[encoded data removed]",
            "text/plain": [
              "<Figure size 640x480 with 1 Axes>"
            ]
          },
          "metadata": {},
          "output_type": "display_data"
        }
      ],
      "source": [
        "plotHistory(history)"
      ]
    },
    {
      "cell_type": "code",
      "execution_count": null,
      "metadata": {
        "id": "WK_Nn6LUZ1sk"
      },
      "outputs": [],
      "source": [
        "from sklearn.metrics import f1_score\n",
        "from sklearn.metrics import recall_score\n",
        "from sklearn.metrics import roc_auc_score\n",
        "from sklearn.metrics import accuracy_score\n",
        "from sklearn.metrics import precision_score\n",
        "from sklearn.metrics import confusion_matrix\n",
        "from sklearn.metrics import cohen_kappa_score"
      ]
    },
    {
      "cell_type": "code",
      "execution_count": null,
      "metadata": {
        "colab": {
          "base_uri": "https://localhost:8080/"
        },
        "id": "hDtv1SnhfQ97",
        "outputId": "cf8960b0-7491-4ad0-f83e-dda23c7edda8"
      },
      "outputs": [
        {
          "name": "stdout",
          "output_type": "stream",
          "text": [
            "subject_007_01__x.csv\n",
            "(11550, 1)\n",
            "(11542, 32, 6)\n",
            "361/361 [==============================] - 2s 5ms/step\n",
            "True: (array([0, 1, 2, 3]), array([7916,  382,  540, 2712]))\n",
            "Predict: (array([0, 1, 2, 3]), array([8616,  414,  548, 1964]))\n",
            "Precision: 0.868272; Recall: 0.849089; F1 score: 0.853114\n",
            "[[7555   30   46  993]\n",
            " [  53  350    0   11]\n",
            " [  57    0  485    6]\n",
            " [ 251    2    9 1702]]\n",
            "subject_007_02__x.csv\n",
            "(11747, 1)\n",
            "(11739, 32, 6)\n",
            "367/367 [==============================] - 2s 5ms/step\n",
            "True: (array([0, 1, 2, 3]), array([8446,  121,  542, 2638]))\n",
            "Predict: (array([0, 1, 2, 3]), array([8572,  128,  577, 2462]))\n",
            "Precision: 0.861967; Recall: 0.877797; F1 score: 0.869242\n",
            "[[7940   15   35  590]\n",
            " [  18  106    0    4]\n",
            " [  71    0  500    6]\n",
            " [ 417    0    7 2038]]\n"
          ]
        }
      ],
      "source": [
        "# testing metrices on one pair of test-data and predictions\n",
        "testingFileInfo = {'subject_007_01__x.csv': 'subject_007_01__y.csv',\n",
        "                        'subject_007_02__x.csv': 'subject_007_02__y.csv'}\n",
        "\n",
        "outputFileInfo = {'subject_007_01__x.csv': 'subject_007_01__y_prediction.csv',\n",
        "                        'subject_007_02__x.csv': 'subject_007_02__y_prediction.csv'}\n",
        "\n",
        "for inputFile, inputFileTime_y in testingFileInfo.items():\n",
        "  print(inputFile)\n",
        "  testDataX = pd.read_csv(inputFile, names=['acc.x', 'acc.y', 'acc.z', 'gyro.x', 'gyro.y', 'gyro.z'])\n",
        "  # Mean Subtraction\n",
        "  testDataX = testDataX - testDataX.mean()\n",
        "  testDataX = testDataX.values\n",
        "  trueLabel_y = pd.read_csv(inputFileTime_y, names=['label'])\n",
        "  print(trueLabel_y.shape)\n",
        "  lstmXinput = []\n",
        "  for i in range(int(timeStep/4), trueLabel_y.shape[0]):\n",
        "    sample = []\n",
        "    for j in range((i*4)-(timeStep), (i*4)):\n",
        "      sample.append(testDataX[j])\n",
        "    lstmXinput.append(sample)\n",
        "  testDataX = np.asarray(lstmXinput)\n",
        "  print(testDataX.shape)\n",
        "  testPredY = model.predict(testDataX)\n",
        "  result = []\n",
        "  for i in range(0, len(testPredY)):\n",
        "    result.append(np.argmax(testPredY[i]))\n",
        "  np.asarray(result)\n",
        "  print(\"True: \" + str(np.unique(trueLabel_y, returnCounts = True)))\n",
        "  print(\"Predict: \" + str(np.unique(result, returnCounts = True)))\n",
        "  outfile = open(outputFileInfo.get(inputFile),'w')\n",
        "  out = csv.writer(outfile)\n",
        "  out.writerows(map(lambda x: [x], result))\n",
        "  outfile.close()  \n",
        "  \n",
        "  for i in range(int(timeStep/4)):\n",
        "    result.insert(0,0)\n",
        "  testY = np.array(trueLabel_y)\n",
        "  # precision tp / (tp + fp)\n",
        "  precision = precision_score(testY, result, average='macro')\n",
        "  # recall: tp / (tp + fn)\n",
        "  recall = recall_score(testY, result, average='macro')\n",
        "  # f1: 2 tp / (2 tp + fp + fn)\n",
        "  f1 = f1_score(testY, result, average='macro')\n",
        "  print('Precision: %f; Recall: %f; F1 score: %f' % (precision, recall, f1))\n",
        "  matrix = confusion_matrix(result, testY)\n",
        "  print(matrix)\n",
        "\n",
        "  # f1_score(pred[subjID],gt[subjID],average='macro')"
      ]
    },
    {
      "cell_type": "code",
      "execution_count": null,
      "metadata": {
        "colab": {
          "base_uri": "https://localhost:8080/"
        },
        "id": "ToV6QSZlfV6H",
        "outputId": "617b91b7-0611-4eb4-aa0c-9ffd4ab99de6"
      },
      "outputs": [
        {
          "name": "stdout",
          "output_type": "stream",
          "text": [
            "subject_009_01__x.csv\n",
            "(9498, 1)\n",
            "(9490, 32, 6)\n",
            "297/297 [==============================] - 2s 8ms/step\n",
            "(array([0, 1, 2, 3]), array([7687,  389,  178, 1236]))\n",
            "subject_010_01__x.csv\n",
            "(12270, 1)\n",
            "(12262, 32, 6)\n",
            "384/384 [==============================] - 2s 5ms/step\n",
            "(array([0, 1, 2, 3]), array([6987,  439,  481, 4355]))\n",
            "subject_011_01__x.csv\n",
            "(12940, 1)\n",
            "(12932, 32, 6)\n",
            "405/405 [==============================] - 2s 6ms/step\n",
            "(array([0, 1, 2, 3]), array([9136,  509,  758, 2529]))\n",
            "subject_012_01__x.csv\n",
            "(11330, 1)\n",
            "(11322, 32, 6)\n",
            "354/354 [==============================] - 2s 4ms/step\n",
            "(array([0, 1, 2, 3]), array([8248,  646,  869, 1559]))\n"
          ]
        }
      ],
      "source": [
        "# testing predictions on the target subject files\n",
        "testingFileInfo = {'subject_009_01__x.csv': 'subject_009_01__y_time.csv',\n",
        "                    'subject_010_01__x.csv': 'subject_010_01__y_time.csv',\n",
        "                    'subject_011_01__x.csv': 'subject_011_01__y_time.csv',\n",
        "                    'subject_012_01__x.csv': 'subject_012_01__y_time.csv'}\n",
        "\n",
        "outputFileInfo = {'subject_009_01__x.csv': 'subject_009_01__y_prediction.csv',\n",
        "                  'subject_010_01__x.csv': 'subject_010_01__y_prediction.csv',\n",
        "                  'subject_011_01__x.csv': 'subject_011_01__y_prediction.csv',\n",
        "                  'subject_012_01__x.csv': 'subject_012_01__y_prediction.csv'}\n",
        "\n",
        "for inputFile, inputFileTime_y in testingFileInfo.items():\n",
        "        print(inputFile)\n",
        "        testDataX = pd.read_csv(inputFile, names=['acc.x', 'acc.y', 'acc.z', 'gyro.x', 'gyro.y', 'gyro.z'])\n",
        "        # Mean Subtraction\n",
        "        testDataX = testDataX - testDataX.mean()\n",
        "        testDataX = testDataX.values\n",
        "        testTimeY = pd.read_csv(inputFileTime_y, names=['label'])\n",
        "        print(testTimeY.shape)\n",
        "        lstmXinput = []\n",
        "        for i in range(int(timeStep/4), testTimeY.shape[0]):\n",
        "          sample = []\n",
        "          for j in range((i*4)-(timeStep), (i*4)):\n",
        "            sample.append(testDataX[j])\n",
        "          lstmXinput.append(sample)\n",
        "        testDataX = np.asarray(lstmXinput)\n",
        "        print(testDataX.shape)\n",
        "        testPredY = model.predict(testDataX)\n",
        "        result = []\n",
        "        for i in range(0, len(testPredY)):\n",
        "          result.append(np.argmax(testPredY[i]))\n",
        "        np.asarray(result)\n",
        "        print(np.unique(result, returnCounts = True))\n",
        "        outfile = open(outputFileInfo.get(inputFile),'w')\n",
        "        out = csv.writer(outfile)\n",
        "        out.writerows(map(lambda x: [x], result))\n",
        "        outfile.close()"
      ]
    },
    {
      "cell_type": "code",
      "execution_count": null,
      "metadata": {
        "id": "WCgHmGylZ1sl"
      },
      "outputs": [],
      "source": [
        "# References: \n",
        "# https://github.com/mitanachien/Terrain-Identification-for-Time-Series-Data,\n",
        "# Dixon, Philippe Schutte, K.H. Vanwanseele, Benedicte Jacobs, ¨Jesse Dennerlein, Jack Schiffman, Jeffrey Fournier, P-A Hu,Boyi. (2019). Machine learning algorithms can classify outdoor terrain types during running using accelerometry data. Gait Posture. 74.10.1016/j.gaitpost.2019.09.005. ,\n",
        "# Nampoothiri, M.G.H., Anand, P.S.G. Antony, R. Real time terrain identification of autonomous robots using machine learning. Int J Intell RobotAppl 4, 265–277 (2020). https://doi.org/10.1007/s41315-020-00142-3"
      ]
    }
  ],
  "metadata": {
    "accelerator": "GPU",
    "colab": {
      "provenance": []
    },
    "gpuClass": "standard",
    "kernelspec": {
      "display_name": "Python 3.9.6 64-bit",
      "language": "python",
      "name": "python3"
    },
    "language_info": {
      "name": "python",
      "version": "3.9.6"
    },
    "vscode": {
      "interpreter": {
        "hash": "31f2aee4e71d21fbe5cf8b01ff0e069b9275f58929596ceb00d14d90e3e16cd6"
      }
    }
  },
  "nbformat": 4,
  "nbformat_minor": 0
}
